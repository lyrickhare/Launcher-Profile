{
 "cells": [
  {
   "cell_type": "markdown",
   "metadata": {},
   "source": [
    "# Objective : \n",
    "- To get Optimum $\\theta_0$ and $t_{burn}$"
   ]
  },
  {
   "cell_type": "markdown",
   "metadata": {},
   "source": [
    "# Given:\n",
    "- $S_{threshold} = 70 m $\n",
    "- $Thrust_{availablle} = 1068 kN$\n",
    "- $\\frac{dm}{dt} = 78.75 kg/sec$  \n",
    "\n",
    "# Assumption\n",
    "- The parent is flying at an constant angle with the horizon, with gravity, thrust and drag acting on it"
   ]
  },
  {
   "cell_type": "markdown",
   "metadata": {},
   "source": [
    "# Intermediate Calci: \n",
    "- Drag Calci:\n",
    "    - $ Area_{projected} = \\pi(\\frac{5}{2})^2 sin(\\beta) + 10\\times 5 cos(\\beta) $\n",
    "    - $C_D$ assumed constant for $\\beta\\in (0\\degree,5\\degree)$ : validation link https://iopscience.iop.org/article/10.1088/1757-899X/225/1/012045/pdf#:~:text=In%20case%20of%20blunt%20bodies,increases%20for%20all%20Mach%20numbers"
   ]
  },
  {
   "cell_type": "markdown",
   "metadata": {},
   "source": [
    "# Playing Relative Game"
   ]
  },
  {
   "cell_type": "code",
   "execution_count": 1,
   "metadata": {},
   "outputs": [],
   "source": [
    "import numpy as np\n",
    "import pandas as pd\n",
    "import matplotlib.pyplot as plt"
   ]
  },
  {
   "cell_type": "code",
   "execution_count": 14,
   "metadata": {},
   "outputs": [],
   "source": [
    "# link for Cd not varying much https://iopscience.iop.org/article/10.1088/1757-899X/225/1/012045/pdf#:~:text=In%20case%20of%20blunt%20bodies,increases%20for%20all%20Mach%20numbers"
   ]
  },
  {
   "cell_type": "markdown",
   "metadata": {},
   "source": []
  },
  {
   "cell_type": "code",
   "execution_count": 2,
   "metadata": {},
   "outputs": [],
   "source": [
    "# Constants\n",
    "S_thold = -70\n",
    "T_av = 1108e3\n",
    "dmByDt = 78.75\n",
    "A_side_proj = 10*5\n",
    "A_front_proj = np.pi*2.5*2.5"
   ]
  },
  {
   "cell_type": "code",
   "execution_count": 3,
   "metadata": {},
   "outputs": [],
   "source": [
    "\n",
    "THETA = 3 # in degrees\n",
    "MASS = 6e3 # in kg\n",
    "DT = 0.001 # in seconds\n",
    "\n",
    "def thrust(alpha,theta=np.deg2rad(THETA),T=(1e6 + MASS*1*9.8)/np.cos(np.deg2rad(THETA)),mass=MASS):\n",
    "    \"\"\" \n",
    "    calculates thrust in inertial (parent) direction\n",
    "    inputs:\n",
    "    - alpha in rad\n",
    "    - theta in rad\n",
    "    - T in N (absolute value of net thrust)\n",
    "\n",
    "    output:\n",
    "    - 2D vector\n",
    "\n",
    "    Notes: value of T*cos(theta) = Drag + ma\n",
    "    \"\"\"\n",
    "    return np.array([T*np.cos(-alpha+theta),-T*np.sin(-alpha+theta)-mass*9.8])\n",
    "\n",
    "def drag(alpha,beta,D = 1e6):\n",
    "    \"\"\"\n",
    "    calculates drag in inertial (parent) direction\n",
    "    inputs:\n",
    "    - alpha in rad\n",
    "    - beta in rad\n",
    "    - D in N (absolute value of net thrust)\n",
    "\n",
    "    output: \n",
    "    - 2D vector\n",
    "    \"\"\"\n",
    "    return np.array([-D*np.cos(beta-alpha),D*np.sin(beta-alpha)])\n",
    "\n",
    "def R_i2b(alpha,vec):\n",
    "    \"\"\" \n",
    "    returns rotated vector in the body frame (x,y) from the interial {parent (X,Y)}\n",
    "    alpha in rad\n",
    "    \"\"\"\n",
    "    rotMat = np.array( [ [ np.cos(alpha), np.sin(alpha) ], [ -np.sin(alpha), np.cos(alpha)] ] )   \n",
    "    return np.matmul(rotMat,vec)\n",
    "\n",
    "def moment(alpha, drag, l = 0.5):\n",
    "    \"\"\" \n",
    "    calculates positive value standard right hand rule i.e. outside plane moment is positive\n",
    "    l is distance between cg and cp\n",
    "    distance between cg and ct is assumed 0 {ct is the point at which thrust acts}\n",
    "    \"\"\"\n",
    "    dragRot = -R_i2b(alpha,drag)\n",
    "    return dragRot[1]*l\n",
    "\n",
    "def moi(m=6000,r=2.5,l=10):\n",
    "    \"\"\"\n",
    "    moment of intertia, will be used in future for variable mass and exact CG location\n",
    "    \"\"\"\n",
    "    return m*(0.25*r**2 + (1/12)*l**2)+m*(1.5)**2\n",
    "\n",
    "\n",
    "def betaFromV(alpha, v):\n",
    "    \"\"\"\n",
    "    input:\n",
    "    - alpha in radians\n",
    "    - velocity vector in inertial frame\n",
    "    output:\n",
    "    - in radians\n",
    "    \"\"\"\n",
    "    vRot = R_i2b(alpha,v) # transform velcity vector from parent to pod frame\n",
    "    return np.arctan(-vRot[1]/vRot[0])\n",
    "\n",
    "def updateV(vo, T, D, dt = DT, m = MASS):\n",
    "    \"\"\"\n",
    "    newton's law\n",
    "    \"\"\"\n",
    "    # return vo + ((T+D)/m+np.array([0,-9.8]))*dt # for absolute displacement in Y (but first have to rotate everything in real inertial frame)\n",
    "    return vo + ((T+D)/m)*dt\n",
    "\n",
    "def updateAlphadot(alphaDot, moment, moi, dt = DT):\n",
    "    \"\"\"\n",
    "    we know that doube derivative of alpha wrt time is net_Torque/Moment of inertia\n",
    "    input:\n",
    "    - rad/sec\n",
    "    - N-m\n",
    "    - kg-m^2\n",
    "    \"\"\"\n",
    "    return alphaDot + (moment/moi)*dt\n",
    "\n",
    "def updateAlpha(alphao, alphaDot, dt = DT):\n",
    "    \"\"\" \n",
    "    took modulus for plots\n",
    "    \"\"\"\n",
    "    # return (alphao + alphaDot*dt)%(2*np.pi)\n",
    "    return (alphao + alphaDot*dt)\n",
    "\n",
    "def getAngle(vec):\n",
    "    return np.arctan(vec[1]/vec[0])\n"
   ]
  },
  {
   "cell_type": "code",
   "execution_count": 4,
   "metadata": {},
   "outputs": [],
   "source": [
    "def loopAll( theta = 7,dragNew = 1e6,loopTime = 5):\n",
    "    MASS = 6e3\n",
    "    #declaring empty arrays\n",
    "    t = np.arange(0,loopTime+DT,DT) \n",
    "    alph = np.zeros(len(t))\n",
    "    bet = np.zeros(len(t))\n",
    "    T = np.zeros((len(t),2))\n",
    "    D = np.zeros((len(t),2))\n",
    "    V = np.zeros((len(t),2))\n",
    "    alphDot = np.zeros(len(t))\n",
    "    tau = np.zeros(len(t)) \n",
    "    \n",
    "    # initializing t = 0 values\n",
    "    T[0] = thrust(alph[0],np.deg2rad(theta),T_av)\n",
    "    D[0] = drag(alph[0],bet[0],dragNew)\n",
    "    V[0] = np.array([600,0])\n",
    "    I = moi()\n",
    "    updatedMASS = MASS\n",
    "    for i in range(1,len(t)):\n",
    "        updatedMASS = MASS - 4*dmByDt*DT\n",
    "        V[i] = updateV(V[i-1],T[i-1],D[i-1],DT,updatedMASS)\n",
    "        bet[i] = betaFromV(alph[i-1],V[i])\n",
    "        tau[i] = moment(alph[i-1],D[i-1])\n",
    "        alphDot[i] = updateAlphadot(alphDot[i-1],tau[i],moi(updatedMASS))\n",
    "        alph[i] = updateAlpha(alph[i-1],alphDot[i-1])\n",
    "        T[i] = thrust(alph[i],np.deg2rad(theta),T_av)\n",
    "        D[i] = drag(alph[i],bet[i],dragNew)\n",
    "    return alph,bet,V"
   ]
  },
  {
   "cell_type": "code",
   "execution_count": 5,
   "metadata": {},
   "outputs": [],
   "source": [
    "def get_tburnFromS(sy):\n",
    "    idx = np.argmin(np.abs(sy - S_thold))\n",
    "    return idx"
   ]
  },
  {
   "cell_type": "code",
   "execution_count": 6,
   "metadata": {},
   "outputs": [],
   "source": [
    "thetaOptArr = np.arange(0,10,0.1)\n",
    "thrustReqOpt = np.zeros( len(thetaOptArr))\n",
    "tburnOpt = np.zeros( len(thetaOptArr))"
   ]
  },
  {
   "cell_type": "code",
   "execution_count": null,
   "metadata": {},
   "outputs": [],
   "source": []
  },
  {
   "cell_type": "code",
   "execution_count": 7,
   "metadata": {},
   "outputs": [],
   "source": [
    "for i in range(0,len(thetaOptArr)):\n",
    "    alphOpt,betOpt,velOpt = loopAll(thetaOptArr[i])\n",
    "    SOpt = np.array([np.cumsum(velOpt[:,0]),np.cumsum(velOpt[:,1])])*DT\n",
    "    tburnOpt[i] = get_tburnFromS(SOpt[1])\n",
    "    maxbetOpt = np.max(betOpt)\n",
    "    dragNewOpt = ( ( A_side_proj * np.sin(maxbetOpt) + A_front_proj * np.cos(maxbetOpt) ) / A_front_proj)*1e6\n",
    "    thrustReqOpt[i] = (dragNewOpt*(np.cos(maxbetOpt)) + MASS*1*9.8)/np.cos(np.deg2rad(thetaOptArr[i]))\n",
    "    # if(thrustReqOpt>T_av):\n",
    "    #     print(thetaOptArr[i])\n",
    "    #     break\n"
   ]
  },
  {
   "cell_type": "code",
   "execution_count": 8,
   "metadata": {},
   "outputs": [
    {
     "data": {
      "text/plain": [
       "61"
      ]
     },
     "execution_count": 8,
     "metadata": {},
     "output_type": "execute_result"
    }
   ],
   "source": [
    "np.argmin(np.abs(thrustReqOpt-T_av)) #index for optimum value"
   ]
  },
  {
   "cell_type": "code",
   "execution_count": 11,
   "metadata": {},
   "outputs": [
    {
     "data": {
      "text/plain": [
       "2206.0"
      ]
     },
     "execution_count": 11,
     "metadata": {},
     "output_type": "execute_result"
    }
   ],
   "source": [
    "tburnOpt[61] # time of burn for optimum value"
   ]
  },
  {
   "cell_type": "code",
   "execution_count": 12,
   "metadata": {},
   "outputs": [
    {
     "data": {
      "text/plain": [
       "6.1000000000000005"
      ]
     },
     "execution_count": 12,
     "metadata": {},
     "output_type": "execute_result"
    }
   ],
   "source": [
    "thetaOptArr[61] # theta for optimum value in degree"
   ]
  },
  {
   "cell_type": "code",
   "execution_count": 13,
   "metadata": {},
   "outputs": [
    {
     "data": {
      "text/plain": [
       "[<matplotlib.lines.Line2D at 0x16102bf5940>]"
      ]
     },
     "execution_count": 13,
     "metadata": {},
     "output_type": "execute_result"
    },
    {
     "data": {
      "image/png": "[encoded data removed]",
      "text/plain": [
       "<Figure size 640x480 with 1 Axes>"
      ]
     },
     "metadata": {},
     "output_type": "display_data"
    }
   ],
   "source": [
    "plt.plot(thrustReqOpt)"
   ]
  }
 ],
 "metadata": {
  "kernelspec": {
   "display_name": "Python 3",
   "language": "python",
   "name": "python3"
  },
  "language_info": {
   "codemirror_mode": {
    "name": "ipython",
    "version": 3
   },
   "file_extension": ".py",
   "mimetype": "text/x-python",
   "name": "python",
   "nbconvert_exporter": "python",
   "pygments_lexer": "ipython3",
   "version": "3.12.0"
  }
 },
 "nbformat": 4,
 "nbformat_minor": 2
}
