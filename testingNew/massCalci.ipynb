{
 "cells": [
  {
   "cell_type": "code",
   "execution_count": 2,
   "metadata": {},
   "outputs": [],
   "source": [
    "import pandas as pd\n",
    "import numpy as np"
   ]
  },
  {
   "cell_type": "code",
   "execution_count": 3,
   "metadata": {},
   "outputs": [],
   "source": [
    "import matplotlib.pyplot as plt"
   ]
  },
  {
   "cell_type": "code",
   "execution_count": 4,
   "metadata": {},
   "outputs": [],
   "source": [
    "from sklearn import preprocessing, svm\n",
    "from sklearn.model_selection import train_test_split\n",
    "from sklearn.linear_model import LinearRegression"
   ]
  },
  {
   "cell_type": "code",
   "execution_count": 5,
   "metadata": {},
   "outputs": [],
   "source": [
    "class massClass:\n",
    "    def __init__(self):\n",
    "        # Stages\n",
    "        self.stages = [\"S200\",\"L110\",\"C25\"]\n",
    "        # propellant Mass in tonne\n",
    "        self.propMass = np.array([410.0, 116.0, 28.0])\n",
    "        # empty mass in tonne\n",
    "        self.emptyMass = np.array([62.0, 9.0, 5.0])\n",
    "        self.othermass = 12\n",
    "        self.MTOW = self.propMass.sum() + self.emptyMass.sum() + self.othermass\n",
    "        # flightEvents\n",
    "        self.ignitionT = np.array([0.0, 108.10, 307.96])\n",
    "        self.separationT = np.array([127.0, 305.56 ,954.42])\n",
    "        # burnTime\n",
    "        self.burnTime = self.separationT - self.ignitionT\n",
    "        self.burnRate = self.propMass/self.burnTime\n",
    "    def editPropMass(self,mass,i):\n",
    "        self.propMass[i] = self.propMass[i]+mass\n",
    "        self.burnRate = self.propMass/self.burnTime\n",
    "        self.MTOW = self.MTOW + mass\n",
    "    def editOtherMass(self,mass):\n",
    "        self.othermass = self.othermass + mass\n",
    "        self.MTOW = self.MTOW + mass\n",
    "    def burntMass(self,i,t):\n",
    "        return  self.burnRate[i]*(min(t,self.separationT[i])-self.ignitionT[i])\n",
    "    def mass(self,t):\n",
    "        if(t<self.ignitionT[1]):\n",
    "            return self.MTOW - self.burntMass(0,t)\n",
    "        elif(t<self.separationT[0]):\n",
    "            return self.MTOW - self.burntMass(0,t) - self.burntMass(1,t)\n",
    "        elif(t<self.separationT[1]):\n",
    "            return self.MTOW - self.emptyMass[0] - self.propMass[0] - self.burntMass(1,t)\n",
    "        elif(t<self.ignitionT[2]):\n",
    "            return self.MTOW - sum(self.emptyMass[0:2]) - sum(self.propMass[0:2])\n",
    "        elif(t<self.separationT[2]):\n",
    "            return self.MTOW - sum(self.emptyMass[0:2]) - sum(self.propMass[0:2]) - self.burntMass(2,t)\n",
    "        else:\n",
    "            return self.MTOW - self.emptyMass.sum() - self.propMass.sum()"
   ]
  },
  {
   "cell_type": "code",
   "execution_count": 6,
   "metadata": {},
   "outputs": [],
   "source": [
    "allData = pd.read_excel(\"alldata.xlsx\")"
   ]
  },
  {
   "cell_type": "code",
   "execution_count": 7,
   "metadata": {},
   "outputs": [],
   "source": [
    "allData[\"disp\"] = np.zeros(allData.shape[0])\n",
    "for i in range(1,966):\n",
    "    allData.loc[i,\"disp\"] = max(0,allData[\"altKm\"][i]-allData[\"altKm\"][i-1])"
   ]
  },
  {
   "cell_type": "code",
   "execution_count": 8,
   "metadata": {},
   "outputs": [
    {
     "data": {
      "text/html": [
       "<div>\n",
       "<style scoped>\n",
       "    .dataframe tbody tr th:only-of-type {\n",
       "        vertical-align: middle;\n",
       "    }\n",
       "\n",
       "    .dataframe tbody tr th {\n",
       "        vertical-align: top;\n",
       "    }\n",
       "\n",
       "    .dataframe thead th {\n",
       "        text-align: right;\n",
       "    }\n",
       "</style>\n",
       "<table border=\"1\" class=\"dataframe\">\n",
       "  <thead>\n",
       "    <tr style=\"text-align: right;\">\n",
       "      <th></th>\n",
       "      <th>Unnamed: 0</th>\n",
       "      <th>time</th>\n",
       "      <th>altKm</th>\n",
       "      <th>velkmps</th>\n",
       "      <th>dynPinKPa</th>\n",
       "      <th>accing</th>\n",
       "      <th>disp</th>\n",
       "    </tr>\n",
       "  </thead>\n",
       "  <tbody>\n",
       "    <tr>\n",
       "      <th>0</th>\n",
       "      <td>0</td>\n",
       "      <td>0</td>\n",
       "      <td>0.0</td>\n",
       "      <td>0.000</td>\n",
       "      <td>0.485466</td>\n",
       "      <td>-0.007979</td>\n",
       "      <td>0.0</td>\n",
       "    </tr>\n",
       "    <tr>\n",
       "      <th>1</th>\n",
       "      <td>1</td>\n",
       "      <td>1</td>\n",
       "      <td>0.2</td>\n",
       "      <td>0.007</td>\n",
       "      <td>0.441821</td>\n",
       "      <td>0.098039</td>\n",
       "      <td>0.2</td>\n",
       "    </tr>\n",
       "    <tr>\n",
       "      <th>2</th>\n",
       "      <td>2</td>\n",
       "      <td>2</td>\n",
       "      <td>0.2</td>\n",
       "      <td>0.012</td>\n",
       "      <td>0.392086</td>\n",
       "      <td>0.203021</td>\n",
       "      <td>0.0</td>\n",
       "    </tr>\n",
       "    <tr>\n",
       "      <th>3</th>\n",
       "      <td>3</td>\n",
       "      <td>3</td>\n",
       "      <td>0.3</td>\n",
       "      <td>0.017</td>\n",
       "      <td>0.356441</td>\n",
       "      <td>0.305759</td>\n",
       "      <td>0.1</td>\n",
       "    </tr>\n",
       "    <tr>\n",
       "      <th>4</th>\n",
       "      <td>4</td>\n",
       "      <td>4</td>\n",
       "      <td>0.3</td>\n",
       "      <td>0.024</td>\n",
       "      <td>0.355086</td>\n",
       "      <td>0.405109</td>\n",
       "      <td>0.0</td>\n",
       "    </tr>\n",
       "  </tbody>\n",
       "</table>\n",
       "</div>"
      ],
      "text/plain": [
       "   Unnamed: 0  time  altKm  velkmps  dynPinKPa    accing  disp\n",
       "0           0     0    0.0    0.000   0.485466 -0.007979   0.0\n",
       "1           1     1    0.2    0.007   0.441821  0.098039   0.2\n",
       "2           2     2    0.2    0.012   0.392086  0.203021   0.0\n",
       "3           3     3    0.3    0.017   0.356441  0.305759   0.1\n",
       "4           4     4    0.3    0.024   0.355086  0.405109   0.0"
      ]
     },
     "execution_count": 8,
     "metadata": {},
     "output_type": "execute_result"
    }
   ],
   "source": [
    "allData.head()"
   ]
  },
  {
   "cell_type": "code",
   "execution_count": 9,
   "metadata": {},
   "outputs": [],
   "source": [
    "Q_infty = np.array(allData[\"dynPinKPa\"]) # in KPa\n",
    "disp = np.array(allData[\"disp\"]) # in Km\n",
    "acc = np.array(allData[\"accing\"]) # in g"
   ]
  },
  {
   "cell_type": "code",
   "execution_count": 10,
   "metadata": {},
   "outputs": [],
   "source": [
    "class energyclass():\n",
    "    def __init__(self):\n",
    "        self.R = 5.0/2\n",
    "        self.S = np.pi*self.R**2\n",
    "        self.Cd = 0.3\n",
    "    def dragE(self,Q_infty, disp):\n",
    "        self.disp = np.array(disp)\n",
    "        self.Edrag = sum(self.S*self.Cd*Q_infty*self.disp) # in Mega joule cz of KPa and Km\n",
    "        return self.Edrag\n",
    "    def interiaE(self,mass,acc, disp):\n",
    "        self.disp = np.array(disp)\n",
    "        mass = np.array(mass)\n",
    "        acc = (np.array(acc) + 1)*9.8\n",
    "        self.Einertia = sum(mass*acc*self.disp) # in mega joule cz of tonne and Km\n",
    "        return self.Einertia\n",
    "    def totalE(self):\n",
    "        return self.Edrag+self.Einertia"
   ]
  },
  {
   "cell_type": "code",
   "execution_count": 11,
   "metadata": {},
   "outputs": [],
   "source": [
    "# energy consumed till 108 sec\n",
    "e = energyclass()\n",
    "m = massClass()\n",
    "E_till_108 = e.dragE(Q_infty[0:108], disp[0:108]) + e.interiaE(np.array([m.mass(i) for i in range(0,108)]),acc[0:108],disp[0:108])\n",
    "S200_propM_till_108 = m.burntMass(0,108)\n",
    "# Energy per unit mass\n",
    "EpM = E_till_108/S200_propM_till_108"
   ]
  },
  {
   "cell_type": "code",
   "execution_count": 12,
   "metadata": {},
   "outputs": [
    {
     "data": {
      "text/plain": [
       "469687.8222855577"
      ]
     },
     "execution_count": 12,
     "metadata": {},
     "output_type": "execute_result"
    }
   ],
   "source": [
    "E_till_108"
   ]
  },
  {
   "cell_type": "code",
   "execution_count": 13,
   "metadata": {},
   "outputs": [],
   "source": [
    "def energyDiff(excess_propellant,excess_payload,t):\n",
    "    m_1 = massClass()\n",
    "    e_1 = energyclass()\n",
    "    energySpent_old = e_1.dragE(Q_infty[0:t], disp[0:t]) + e_1.interiaE(np.array([m_1.mass(i) for i in range(0,t)]),acc[0:t],disp[0:t])\n",
    "    energyAvailable_old = EpM*m_1.burntMass(0,t) \n",
    "    m_1.editOtherMass(excess_payload)\n",
    "    m_1.editPropMass(excess_propellant,0)\n",
    "    energySpent = e_1.dragE(Q_infty[0:t], disp[0:t]) + e_1.interiaE(np.array([m_1.mass(i) for i in range(0,t)]),acc[0:t],disp[0:t])\n",
    "    energyAvailable = EpM*m_1.burntMass(0,t)\n",
    "    return ((energyAvailable-energyAvailable_old)-(energySpent-energySpent_old))"
   ]
  },
  {
   "cell_type": "code",
   "execution_count": 14,
   "metadata": {},
   "outputs": [],
   "source": [
    "# energyDiff(0,1,127)"
   ]
  },
  {
   "cell_type": "code",
   "execution_count": 15,
   "metadata": {},
   "outputs": [],
   "source": [
    "# t=127"
   ]
  },
  {
   "cell_type": "code",
   "execution_count": 16,
   "metadata": {},
   "outputs": [],
   "source": [
    "# energySpent_test = e.dragE(Q_infty[0:t], disp[0:t]) + e.interiaE(np.array([m.mass(i) for i in range(0,t)]),acc[0:t],disp[0:t])\n",
    "# energySpent_test_new = e.dragE(Q_infty[0:t], disp[0:t]) + e.interiaE(np.array([m.mass(i) for i in range(0,t)])+10,acc[0:t],disp[0:t])\n"
   ]
  },
  {
   "cell_type": "code",
   "execution_count": 17,
   "metadata": {},
   "outputs": [],
   "source": [
    "# energySpent_test_new - energySpent_test"
   ]
  },
  {
   "cell_type": "code",
   "execution_count": 18,
   "metadata": {},
   "outputs": [],
   "source": [
    "def firstPositive(arr):\n",
    "    for i in range(0,len(arr)):\n",
    "        if(arr[i]>=0):\n",
    "            return i"
   ]
  },
  {
   "cell_type": "code",
   "execution_count": 19,
   "metadata": {},
   "outputs": [],
   "source": [
    "extraPayloadMass = np.arange(5)\n",
    "timeArr = np.array([0,127,194,305,954])\n",
    "extraPropellantMass = np.zeros((5,len(timeArr)))\n",
    "for p in range(0,len(timeArr)):\n",
    "    for i in range(0,len(extraPayloadMass)):\n",
    "        extraPropellantMass[p][i] = firstPositive([energyDiff(j,extraPayloadMass[i],timeArr[p]) for j in range(0,100)])"
   ]
  },
  {
   "cell_type": "code",
   "execution_count": 20,
   "metadata": {},
   "outputs": [
    {
     "data": {
      "text/plain": [
       "array([[ 0.,  0.,  0.,  0.,  0.],\n",
       "       [ 0.,  2.,  4.,  6.,  8.],\n",
       "       [ 0.,  3.,  6.,  9., 12.],\n",
       "       [ 0.,  5., 10., 15., 20.],\n",
       "       [ 0.,  7., 13., 19., 25.]])"
      ]
     },
     "execution_count": 20,
     "metadata": {},
     "output_type": "execute_result"
    }
   ],
   "source": [
    "extraPropellantMass"
   ]
  },
  {
   "cell_type": "code",
   "execution_count": 21,
   "metadata": {},
   "outputs": [
    {
     "data": {
      "image/png": "[encoded data removed]",
      "text/plain": [
       "<Figure size 640x480 with 1 Axes>"
      ]
     },
     "metadata": {},
     "output_type": "display_data"
    }
   ],
   "source": [
    "plt.plot(extraPayloadMass,extraPropellantMass[0])\n",
    "plt.plot(extraPayloadMass,extraPropellantMass[1])\n",
    "plt.plot(extraPayloadMass,extraPropellantMass[2])\n",
    "plt.plot(extraPayloadMass,extraPropellantMass[3])\n",
    "plt.plot(extraPayloadMass,extraPropellantMass[4])\n",
    "plt.legend(labels=['SRM sep = 0s','SRM sep = 127s','SRM sep = 194s (PF sep)','SRM sep = 305s','SRM sep = 954s'])\n",
    "plt.xlabel(\"added mass in ton\")\n",
    "plt.ylabel(\"extraPropellantMass in ton\")\n",
    "plt.grid()"
   ]
  },
  {
   "cell_type": "code",
   "execution_count": 22,
   "metadata": {},
   "outputs": [
    {
     "data": {
      "text/plain": [
       "0.5205083641912169"
      ]
     },
     "execution_count": 22,
     "metadata": {},
     "output_type": "execute_result"
    }
   ],
   "source": [
    "e.dragE(Q_infty[0:2], disp[0:2])"
   ]
  },
  {
   "cell_type": "code",
   "execution_count": 23,
   "metadata": {},
   "outputs": [
    {
     "data": {
      "text/plain": [
       "array([0.48546568, 0.44182122, 0.39208593])"
      ]
     },
     "execution_count": 23,
     "metadata": {},
     "output_type": "execute_result"
    }
   ],
   "source": [
    "Q_infty[0:3]"
   ]
  },
  {
   "cell_type": "code",
   "execution_count": 24,
   "metadata": {},
   "outputs": [
    {
     "data": {
      "text/plain": [
       "array([[0., 0.],\n",
       "       [0., 0.],\n",
       "       [0., 0.],\n",
       "       [0., 0.]])"
      ]
     },
     "execution_count": 24,
     "metadata": {},
     "output_type": "execute_result"
    }
   ],
   "source": [
    "np.zeros((4,2))"
   ]
  },
  {
   "cell_type": "code",
   "execution_count": 25,
   "metadata": {},
   "outputs": [],
   "source": [
    "# def EnergyDiff(excess_payload_mass,excess_propellant_mass,till):\n",
    "#     m_1 = massClass()\n",
    "#     e_1 = energyclass()\n",
    "#     # E_spent =  e.dragE(Q_infty[0:till], disp[0:till]) + e.interiaE(np.array([m_1.mass(i) for i in range(0,till)]),acc[0:till],disp[0:till])\n",
    "#     # E_available = EpM*m_1.propMass[0]\n",
    "#     m_1.editPropMass(excess_propellant_mass,0)\n",
    "#     m_1.editOtherMass(excess_payload_mass)\n",
    "#     E_spent_new =  e.dragE(Q_infty[0:till], disp[0:till]) + e.interiaE(np.array([m_1.mass(i) for i in range(0,till)]),acc[0:till],disp[0:till])\n",
    "#     E_available_new = EpM*m_1.propMass[0]\n",
    "#     return (E_available_new-E_spent_new)\n",
    "#     # return ((E_available_new-E_available)-(E_spent_new-E_spent))    "
   ]
  },
  {
   "cell_type": "code",
   "execution_count": 26,
   "metadata": {},
   "outputs": [],
   "source": [
    "# energyDiffarr = np.zeros(100)\n",
    "# for i in range(0,100):\n",
    "#     energyDiffarr[i] = EnergyDiff(1,i,108)"
   ]
  },
  {
   "cell_type": "code",
   "execution_count": 27,
   "metadata": {},
   "outputs": [],
   "source": [
    "# energyDiffarr"
   ]
  },
  {
   "cell_type": "code",
   "execution_count": null,
   "metadata": {},
   "outputs": [],
   "source": []
  },
  {
   "cell_type": "code",
   "execution_count": 28,
   "metadata": {},
   "outputs": [],
   "source": [
    "# # calculating s200 energy per unit mass\n",
    "# EpM = np.zeros(108)\n",
    "# e_EpM = energyclass()\n",
    "# m_EpM = massClass()\n",
    "# for i in range(1,108):\n",
    "#     massBurnt = m_EpM.burntMass(0,i)\n",
    "#     massAti = [m_EpM.mass(j) for j in range(0,i+1)] \n",
    "#     energySpent = e_EpM.dragE(allData[\"dynPinKPa\"][0:i+1],allData[\"disp\"][0:i+1])+e_EpM.interiaE(massAti,allData[\"accing\"][0:i+1],allData[\"disp\"][0:i+1])\n",
    "#     EpM[i] = energySpent/massBurnt"
   ]
  },
  {
   "cell_type": "code",
   "execution_count": 29,
   "metadata": {},
   "outputs": [],
   "source": [
    "# plt.plot(np.arange(0,108),EpM[0:108])\n",
    "# plt.xlabel(\"time in s\")\n",
    "# plt.ylabel(\"Energy (MJ) spent per unit mass (ton)\")"
   ]
  },
  {
   "cell_type": "code",
   "execution_count": 30,
   "metadata": {},
   "outputs": [],
   "source": [
    "# X = np.array((np.arange(5,108)).reshape(-1, 1))\n",
    "# y = np.array(EpM[5:108].reshape(-1, 1))\n",
    "# # X_train, X_test, y_train, y_test = train_test_split(X, y, test_size = 0.25)"
   ]
  },
  {
   "cell_type": "code",
   "execution_count": 31,
   "metadata": {},
   "outputs": [],
   "source": [
    "# regr = LinearRegression()\n",
    "# regr.fit(X, y)"
   ]
  },
  {
   "cell_type": "code",
   "execution_count": 32,
   "metadata": {},
   "outputs": [],
   "source": [
    "# ypred = regr.predict(X)"
   ]
  },
  {
   "cell_type": "code",
   "execution_count": 33,
   "metadata": {},
   "outputs": [],
   "source": [
    "# plt.plot(X,y)\n",
    "# plt.plot(X,ypred)\n",
    "# plt.show()"
   ]
  },
  {
   "cell_type": "code",
   "execution_count": 34,
   "metadata": {},
   "outputs": [],
   "source": [
    "# optimization\n"
   ]
  },
  {
   "cell_type": "code",
   "execution_count": null,
   "metadata": {},
   "outputs": [],
   "source": []
  },
  {
   "cell_type": "code",
   "execution_count": null,
   "metadata": {},
   "outputs": [],
   "source": []
  },
  {
   "cell_type": "code",
   "execution_count": 35,
   "metadata": {},
   "outputs": [],
   "source": [
    "# # Optimization\n",
    "# m_optmization = massClass()\n",
    "# e_optimization = energyclass()\n",
    "# energyDiff = np.zeros(100)\n",
    "# for i in range (0,100):\n",
    "#     energyAvailable = sum(ypred)*(m_optmization.burnRate[0]+i)/len(ypred)\n",
    "#     mfors200_new = [m_optmization.mass(j) + 1.5 + i for j in range(5,108)]\n",
    "#     energyReq = e_optimization.dragE(allData[\"dynPinKPa\"][5:108],allData[\"disp\"][5:108])+e_optimization.interiaE(mfors200_new,allData[\"accing\"][5:108],allData[\"disp\"][5:108])\n",
    "#     energyDiff[i]=energyAvailable-energyReq"
   ]
  },
  {
   "cell_type": "code",
   "execution_count": 36,
   "metadata": {},
   "outputs": [],
   "source": [
    "# energyDiff"
   ]
  },
  {
   "cell_type": "code",
   "execution_count": null,
   "metadata": {},
   "outputs": [],
   "source": []
  }
 ],
 "metadata": {
  "kernelspec": {
   "display_name": "Python 3",
   "language": "python",
   "name": "python3"
  },
  "language_info": {
   "codemirror_mode": {
    "name": "ipython",
    "version": 3
   },
   "file_extension": ".py",
   "mimetype": "text/x-python",
   "name": "python",
   "nbconvert_exporter": "python",
   "pygments_lexer": "ipython3",
   "version": "3.12.0"
  },
  "orig_nbformat": 4
 },
 "nbformat": 4,
 "nbformat_minor": 2
}
