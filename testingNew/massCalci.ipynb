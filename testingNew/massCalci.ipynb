{
 "cells": [
  {
   "cell_type": "code",
   "execution_count": 1,
   "metadata": {},
   "outputs": [],
   "source": [
    "import pandas as pd\n",
    "import numpy as np"
   ]
  },
  {
   "cell_type": "code",
   "execution_count": 2,
   "metadata": {},
   "outputs": [],
   "source": [
    "import matplotlib.pyplot as plt"
   ]
  },
  {
   "cell_type": "code",
   "execution_count": 3,
   "metadata": {},
   "outputs": [],
   "source": [
    "from sklearn import preprocessing, svm\n",
    "from sklearn.model_selection import train_test_split\n",
    "from sklearn.linear_model import LinearRegression"
   ]
  },
  {
   "cell_type": "code",
   "execution_count": 4,
   "metadata": {},
   "outputs": [],
   "source": [
    "class massClass:\n",
    "    def __init__(self):\n",
    "        # Stages\n",
    "        self.stages = [\"S200\",\"L110\",\"C25\"]\n",
    "        # propellant Mass in tonne\n",
    "        self.propMass = np.array([410.0, 116.0, 28.0])\n",
    "        # empty mass in tonne\n",
    "        self.emptyMass = np.array([62.0, 9.0, 5.0])\n",
    "        self.othermass = 12\n",
    "        self.MTOW = self.propMass.sum() + self.emptyMass.sum() + self.othermass\n",
    "        # flightEvents\n",
    "        self.ignitionT = np.array([0.0, 108.10, 307.96])\n",
    "        self.separationT = np.array([127.0, 305.56 ,954.42])\n",
    "        # burnTime\n",
    "        self.burnTime = self.separationT - self.ignitionT\n",
    "        self.burnRate = self.propMass/self.burnTime\n",
    "    def editPropMass(self,mass,i):\n",
    "        self.propMass[i] = self.propMass[i]+mass\n",
    "        self.burnRate = self.propMass/self.burnTime\n",
    "        self.MTOW = self.MTOW + mass\n",
    "    def editOtherMass(self,mass):\n",
    "        self.othermass = self.othermass + mass\n",
    "        self.MTOW = self.MTOW + mass\n",
    "    def burntMass(self,i,t):\n",
    "        return  self.burnRate[i]*(min(t,self.separationT[i])-self.ignitionT[i])\n",
    "    def mass(self,t):\n",
    "        if(t<self.ignitionT[1]):\n",
    "            return self.MTOW - self.burntMass(0,t)\n",
    "        elif(t<self.separationT[0]):\n",
    "            return self.MTOW - self.burntMass(0,t) - self.burntMass(1,t)\n",
    "        elif(t<self.separationT[1]):\n",
    "            return self.MTOW - self.emptyMass[0] - self.propMass[0] - self.burntMass(1,t)\n",
    "        elif(t<self.ignitionT[2]):\n",
    "            return self.MTOW - sum(self.emptyMass[0:2]) - sum(self.propMass[0:2])\n",
    "        elif(t<self.separationT[2]):\n",
    "            return self.MTOW - sum(self.emptyMass[0:2]) - sum(self.propMass[0:2]) - self.burntMass(2,t)\n",
    "        else:\n",
    "            return self.MTOW - self.emptyMass.sum() - self.propMass.sum()"
   ]
  },
  {
   "cell_type": "code",
   "execution_count": 5,
   "metadata": {},
   "outputs": [],
   "source": [
    "allData = pd.read_excel(\"alldata.xlsx\")"
   ]
  },
  {
   "cell_type": "code",
   "execution_count": 6,
   "metadata": {},
   "outputs": [],
   "source": [
    "allData[\"disp\"] = np.zeros(allData.shape[0])\n",
    "for i in range(1,966):\n",
    "    allData.loc[i,\"disp\"] = max(0,allData[\"altKm\"][i]-allData[\"altKm\"][i-1])"
   ]
  },
  {
   "cell_type": "code",
   "execution_count": 7,
   "metadata": {},
   "outputs": [
    {
     "data": {
      "text/html": [
       "<div>\n",
       "<style scoped>\n",
       "    .dataframe tbody tr th:only-of-type {\n",
       "        vertical-align: middle;\n",
       "    }\n",
       "\n",
       "    .dataframe tbody tr th {\n",
       "        vertical-align: top;\n",
       "    }\n",
       "\n",
       "    .dataframe thead th {\n",
       "        text-align: right;\n",
       "    }\n",
       "</style>\n",
       "<table border=\"1\" class=\"dataframe\">\n",
       "  <thead>\n",
       "    <tr style=\"text-align: right;\">\n",
       "      <th></th>\n",
       "      <th>Unnamed: 0</th>\n",
       "      <th>time</th>\n",
       "      <th>altKm</th>\n",
       "      <th>velkmps</th>\n",
       "      <th>dynPinKPa</th>\n",
       "      <th>accing</th>\n",
       "      <th>disp</th>\n",
       "    </tr>\n",
       "  </thead>\n",
       "  <tbody>\n",
       "    <tr>\n",
       "      <th>0</th>\n",
       "      <td>0</td>\n",
       "      <td>0</td>\n",
       "      <td>0.0</td>\n",
       "      <td>0.000</td>\n",
       "      <td>0.485466</td>\n",
       "      <td>-0.007979</td>\n",
       "      <td>0.0</td>\n",
       "    </tr>\n",
       "    <tr>\n",
       "      <th>1</th>\n",
       "      <td>1</td>\n",
       "      <td>1</td>\n",
       "      <td>0.2</td>\n",
       "      <td>0.007</td>\n",
       "      <td>0.441821</td>\n",
       "      <td>0.098039</td>\n",
       "      <td>0.2</td>\n",
       "    </tr>\n",
       "    <tr>\n",
       "      <th>2</th>\n",
       "      <td>2</td>\n",
       "      <td>2</td>\n",
       "      <td>0.2</td>\n",
       "      <td>0.012</td>\n",
       "      <td>0.392086</td>\n",
       "      <td>0.203021</td>\n",
       "      <td>0.0</td>\n",
       "    </tr>\n",
       "    <tr>\n",
       "      <th>3</th>\n",
       "      <td>3</td>\n",
       "      <td>3</td>\n",
       "      <td>0.3</td>\n",
       "      <td>0.017</td>\n",
       "      <td>0.356441</td>\n",
       "      <td>0.305759</td>\n",
       "      <td>0.1</td>\n",
       "    </tr>\n",
       "    <tr>\n",
       "      <th>4</th>\n",
       "      <td>4</td>\n",
       "      <td>4</td>\n",
       "      <td>0.3</td>\n",
       "      <td>0.024</td>\n",
       "      <td>0.355086</td>\n",
       "      <td>0.405109</td>\n",
       "      <td>0.0</td>\n",
       "    </tr>\n",
       "  </tbody>\n",
       "</table>\n",
       "</div>"
      ],
      "text/plain": [
       "   Unnamed: 0  time  altKm  velkmps  dynPinKPa    accing  disp\n",
       "0           0     0    0.0    0.000   0.485466 -0.007979   0.0\n",
       "1           1     1    0.2    0.007   0.441821  0.098039   0.2\n",
       "2           2     2    0.2    0.012   0.392086  0.203021   0.0\n",
       "3           3     3    0.3    0.017   0.356441  0.305759   0.1\n",
       "4           4     4    0.3    0.024   0.355086  0.405109   0.0"
      ]
     },
     "execution_count": 7,
     "metadata": {},
     "output_type": "execute_result"
    }
   ],
   "source": [
    "allData.head()"
   ]
  },
  {
   "cell_type": "code",
   "execution_count": 8,
   "metadata": {},
   "outputs": [],
   "source": [
    "Q_infty = np.array(allData[\"dynPinKPa\"]) # in KPa\n",
    "disp = np.array(allData[\"disp\"]) # in Km\n",
    "acc = np.array(allData[\"accing\"]) # in g"
   ]
  },
  {
   "cell_type": "code",
   "execution_count": 9,
   "metadata": {},
   "outputs": [],
   "source": [
    "class energyclass():\n",
    "    def __init__(self):\n",
    "        self.R = 5.0/2\n",
    "        self.S = np.pi*self.R**2\n",
    "        self.Cd = 0.3\n",
    "    def dragE(self,Q_infty, disp):\n",
    "        self.disp = np.array(disp)\n",
    "        self.Edrag = sum(self.S*self.Cd*Q_infty*self.disp) # in Mega joule cz of KPa and Km\n",
    "        return self.Edrag\n",
    "    def interiaE(self,mass,acc, disp):\n",
    "        self.disp = np.array(disp)\n",
    "        mass = np.array(mass)\n",
    "        acc = (np.array(acc) + 1)*9.8\n",
    "        self.Einertia = sum(mass*acc*self.disp) # in mega joule cz of tonne and Km\n",
    "        return self.Einertia\n",
    "    def totalE(self):\n",
    "        return self.Edrag+self.Einertia"
   ]
  },
  {
   "cell_type": "code",
   "execution_count": 10,
   "metadata": {},
   "outputs": [],
   "source": [
    "# energy consumed till 108 sec\n",
    "e = energyclass()\n",
    "m = massClass()\n",
    "E_till_108 = e.dragE(Q_infty[0:108], disp[0:108]) + e.interiaE(np.array([m.mass(i) for i in range(0,108)]),acc[0:108],disp[0:108])\n",
    "S200_propM_till_108 = m.burntMass(0,108)\n",
    "# Energy per unit mass\n",
    "EpM = E_till_108/S200_propM_till_108"
   ]
  },
  {
   "cell_type": "code",
   "execution_count": 11,
   "metadata": {},
   "outputs": [
    {
     "data": {
      "text/plain": [
       "469687.8222855577"
      ]
     },
     "execution_count": 11,
     "metadata": {},
     "output_type": "execute_result"
    }
   ],
   "source": [
    "E_till_108"
   ]
  },
  {
   "cell_type": "code",
   "execution_count": 12,
   "metadata": {},
   "outputs": [],
   "source": [
    "def energyDiff(excess_propellant,excess_payload,t):\n",
    "    m_1 = massClass()\n",
    "    e_1 = energyclass()\n",
    "    energySpent_old = e_1.dragE(Q_infty[0:t], disp[0:t]) + e_1.interiaE(np.array([m_1.mass(i) for i in range(0,t)]),acc[0:t],disp[0:t])\n",
    "    energyAvailable_old = EpM*m_1.burntMass(0,t) \n",
    "    m_1.editOtherMass(excess_payload)\n",
    "    m_1.editPropMass(excess_propellant,0)\n",
    "    energySpent = e_1.dragE(Q_infty[0:t], disp[0:t]) + e_1.interiaE(np.array([m_1.mass(i) for i in range(0,t)]),acc[0:t],disp[0:t])\n",
    "    energyAvailable = EpM*m_1.burntMass(0,t)\n",
    "    return ((energyAvailable-energyAvailable_old)-(energySpent-energySpent_old))"
   ]
  },
  {
   "cell_type": "code",
   "execution_count": 13,
   "metadata": {},
   "outputs": [],
   "source": [
    "# energyDiff(0,1,127)"
   ]
  },
  {
   "cell_type": "code",
   "execution_count": 14,
   "metadata": {},
   "outputs": [],
   "source": [
    "# t=127"
   ]
  },
  {
   "cell_type": "code",
   "execution_count": 15,
   "metadata": {},
   "outputs": [],
   "source": [
    "# energySpent_test = e.dragE(Q_infty[0:t], disp[0:t]) + e.interiaE(np.array([m.mass(i) for i in range(0,t)]),acc[0:t],disp[0:t])\n",
    "# energySpent_test_new = e.dragE(Q_infty[0:t], disp[0:t]) + e.interiaE(np.array([m.mass(i) for i in range(0,t)])+10,acc[0:t],disp[0:t])\n"
   ]
  },
  {
   "cell_type": "code",
   "execution_count": 16,
   "metadata": {},
   "outputs": [],
   "source": [
    "# energySpent_test_new - energySpent_test"
   ]
  },
  {
   "cell_type": "code",
   "execution_count": 17,
   "metadata": {},
   "outputs": [],
   "source": [
    "def firstPositive(arr):\n",
    "    for i in range(0,len(arr)):\n",
    "        if(arr[i]>=0):\n",
    "            return i"
   ]
  },
  {
   "cell_type": "code",
   "execution_count": 20,
   "metadata": {},
   "outputs": [],
   "source": [
    "extraPayloadMass = np.arange(5)\n",
    "timeArr = np.array([108,127,194,305,954])\n",
    "extraPropellantMass = np.zeros((5,len(timeArr)))\n",
    "for p in range(0,len(timeArr)):\n",
    "    for i in range(0,len(extraPayloadMass)):\n",
    "        extraPropellantMass[p][i] = firstPositive([energyDiff(j,extraPayloadMass[i],timeArr[p]) for j in range(0,100)])"
   ]
  },
  {
   "cell_type": "code",
   "execution_count": 21,
   "metadata": {},
   "outputs": [
    {
     "data": {
      "text/plain": [
       "array([[ 0.,  2.,  4.,  6.,  7.],\n",
       "       [ 0.,  2.,  4.,  6.,  8.],\n",
       "       [ 0.,  3.,  6.,  9., 12.],\n",
       "       [ 0.,  5., 10., 15., 20.],\n",
       "       [ 0.,  7., 13., 19., 25.]])"
      ]
     },
     "execution_count": 21,
     "metadata": {},
     "output_type": "execute_result"
    }
   ],
   "source": [
    "extraPropellantMass"
   ]
  },
  {
   "cell_type": "code",
   "execution_count": 27,
   "metadata": {},
   "outputs": [
    {
     "data": {
      "text/plain": [
       "Text(0, 0.5, 'extraPropellantMass in ton')"
      ]
     },
     "execution_count": 27,
     "metadata": {},
     "output_type": "execute_result"
    },
    {
     "data": {
      "image/png": "[encoded data removed]",
      "text/plain": [
       "<Figure size 640x480 with 1 Axes>"
      ]
     },
     "metadata": {},
     "output_type": "display_data"
    }
   ],
   "source": [
    "plt.plot(extraPayloadMass,extraPropellantMass[1])\n",
    "plt.plot(extraPayloadMass,extraPropellantMass[2])\n",
    "plt.plot(extraPayloadMass,extraPropellantMass[3])\n",
    "plt.plot(extraPayloadMass,extraPropellantMass[4])\n",
    "plt.legend(labels=['SRM sep = 127s','SRM sep = 194s (PF sep)','SRM sep = 305s','SRM sep = 954s'])\n",
    "plt.xlabel(\"extraPayloadMass in ton\")\n",
    "plt.ylabel(\"extraPropellantMass in ton\")"
   ]
  },
  {
   "cell_type": "code",
   "execution_count": 25,
   "metadata": {},
   "outputs": [
    {
     "data": {
      "text/plain": [
       "0.5205083641912169"
      ]
     },
     "execution_count": 25,
     "metadata": {},
     "output_type": "execute_result"
    }
   ],
   "source": [
    "e.dragE(Q_infty[0:2], disp[0:2])"
   ]
  },
  {
   "cell_type": "code",
   "execution_count": 27,
   "metadata": {},
   "outputs": [
    {
     "data": {
      "text/plain": [
       "array([0.48546568, 0.44182122, 0.39208593])"
      ]
     },
     "execution_count": 27,
     "metadata": {},
     "output_type": "execute_result"
    }
   ],
   "source": [
    "Q_infty[0:3]"
   ]
  },
  {
   "cell_type": "code",
   "execution_count": 19,
   "metadata": {},
   "outputs": [
    {
     "data": {
      "text/plain": [
       "array([[0., 0.],\n",
       "       [0., 0.],\n",
       "       [0., 0.],\n",
       "       [0., 0.]])"
      ]
     },
     "execution_count": 19,
     "metadata": {},
     "output_type": "execute_result"
    }
   ],
   "source": [
    "np.zeros((4,2))"
   ]
  },
  {
   "cell_type": "code",
   "execution_count": 18,
   "metadata": {},
   "outputs": [],
   "source": [
    "# def EnergyDiff(excess_payload_mass,excess_propellant_mass,till):\n",
    "#     m_1 = massClass()\n",
    "#     e_1 = energyclass()\n",
    "#     # E_spent =  e.dragE(Q_infty[0:till], disp[0:till]) + e.interiaE(np.array([m_1.mass(i) for i in range(0,till)]),acc[0:till],disp[0:till])\n",
    "#     # E_available = EpM*m_1.propMass[0]\n",
    "#     m_1.editPropMass(excess_propellant_mass,0)\n",
    "#     m_1.editOtherMass(excess_payload_mass)\n",
    "#     E_spent_new =  e.dragE(Q_infty[0:till], disp[0:till]) + e.interiaE(np.array([m_1.mass(i) for i in range(0,till)]),acc[0:till],disp[0:till])\n",
    "#     E_available_new = EpM*m_1.propMass[0]\n",
    "#     return (E_available_new-E_spent_new)\n",
    "#     # return ((E_available_new-E_available)-(E_spent_new-E_spent))    "
   ]
  },
  {
   "cell_type": "code",
   "execution_count": 23,
   "metadata": {},
   "outputs": [],
   "source": [
    "# energyDiffarr = np.zeros(100)\n",
    "# for i in range(0,100):\n",
    "#     energyDiffarr[i] = EnergyDiff(1,i,108)"
   ]
  },
  {
   "cell_type": "code",
   "execution_count": 24,
   "metadata": {},
   "outputs": [
    {
     "data": {
      "text/plain": [
       "array([81440.44205029, 81597.73635499, 81755.0306597 , 81912.32496441,\n",
       "       82069.61926912, 82226.91357383, 82384.20787853, 82541.50218324,\n",
       "       82698.79648795, 82856.09079266, 83013.38509737, 83170.67940207,\n",
       "       83327.97370678, 83485.26801149, 83642.5623162 , 83799.85662091,\n",
       "       83957.15092561, 84114.44523032, 84271.73953503, 84429.03383974,\n",
       "       84586.32814444, 84743.62244915, 84900.91675386, 85058.21105857,\n",
       "       85215.50536328, 85372.79966798, 85530.09397269, 85687.3882774 ,\n",
       "       85844.68258211, 86001.97688682, 86159.27119152, 86316.56549623,\n",
       "       86473.85980094, 86631.15410565, 86788.44841035, 86945.74271506,\n",
       "       87103.03701977, 87260.33132448, 87417.62562919, 87574.91993389,\n",
       "       87732.2142386 , 87889.50854331, 88046.80284802, 88204.09715273,\n",
       "       88361.39145743, 88518.68576214, 88675.98006685, 88833.27437156,\n",
       "       88990.56867627, 89147.86298097, 89305.15728568, 89462.45159039,\n",
       "       89619.7458951 , 89777.0401998 , 89934.33450451, 90091.62880922,\n",
       "       90248.92311393, 90406.21741864, 90563.51172334, 90720.80602805,\n",
       "       90878.10033276, 91035.39463747, 91192.68894218, 91349.98324688,\n",
       "       91507.27755159, 91664.5718563 , 91821.86616101, 91979.16046572,\n",
       "       92136.45477042, 92293.74907513, 92451.04337984, 92608.33768455,\n",
       "       92765.63198925, 92922.92629396, 93080.22059867, 93237.51490338,\n",
       "       93394.80920809, 93552.10351279, 93709.3978175 , 93866.69212221,\n",
       "       94023.98642692, 94181.28073163, 94338.57503633, 94495.86934104,\n",
       "       94653.16364575, 94810.45795046, 94967.75225517, 95125.04655987,\n",
       "       95282.34086458, 95439.63516929, 95596.929474  , 95754.2237787 ,\n",
       "       95911.51808341, 96068.81238812, 96226.10669283, 96383.40099754,\n",
       "       96540.69530224, 96697.98960695, 96855.28391166, 97012.57821637])"
      ]
     },
     "execution_count": 24,
     "metadata": {},
     "output_type": "execute_result"
    }
   ],
   "source": [
    "# energyDiffarr"
   ]
  },
  {
   "cell_type": "code",
   "execution_count": null,
   "metadata": {},
   "outputs": [],
   "source": []
  },
  {
   "cell_type": "code",
   "execution_count": 10,
   "metadata": {},
   "outputs": [],
   "source": [
    "# # calculating s200 energy per unit mass\n",
    "# EpM = np.zeros(108)\n",
    "# e_EpM = energyclass()\n",
    "# m_EpM = massClass()\n",
    "# for i in range(1,108):\n",
    "#     massBurnt = m_EpM.burntMass(0,i)\n",
    "#     massAti = [m_EpM.mass(j) for j in range(0,i+1)] \n",
    "#     energySpent = e_EpM.dragE(allData[\"dynPinKPa\"][0:i+1],allData[\"disp\"][0:i+1])+e_EpM.interiaE(massAti,allData[\"accing\"][0:i+1],allData[\"disp\"][0:i+1])\n",
    "#     EpM[i] = energySpent/massBurnt"
   ]
  },
  {
   "cell_type": "code",
   "execution_count": 9,
   "metadata": {},
   "outputs": [],
   "source": [
    "# plt.plot(np.arange(0,108),EpM[0:108])\n",
    "# plt.xlabel(\"time in s\")\n",
    "# plt.ylabel(\"Energy (MJ) spent per unit mass (ton)\")"
   ]
  },
  {
   "cell_type": "code",
   "execution_count": 54,
   "metadata": {},
   "outputs": [],
   "source": [
    "# X = np.array((np.arange(5,108)).reshape(-1, 1))\n",
    "# y = np.array(EpM[5:108].reshape(-1, 1))\n",
    "# # X_train, X_test, y_train, y_test = train_test_split(X, y, test_size = 0.25)"
   ]
  },
  {
   "cell_type": "code",
   "execution_count": 57,
   "metadata": {},
   "outputs": [
    {
     "data": {
      "text/html": [
       "<style>#sk-container-id-2 {color: black;}#sk-container-id-2 pre{padding: 0;}#sk-container-id-2 div.sk-toggleable {background-color: white;}#sk-container-id-2 label.sk-toggleable__label {cursor: pointer;display: block;width: 100%;margin-bottom: 0;padding: 0.3em;box-sizing: border-box;text-align: center;}#sk-container-id-2 label.sk-toggleable__label-arrow:before {content: \"▸\";float: left;margin-right: 0.25em;color: #696969;}#sk-container-id-2 label.sk-toggleable__label-arrow:hover:before {color: black;}#sk-container-id-2 div.sk-estimator:hover label.sk-toggleable__label-arrow:before {color: black;}#sk-container-id-2 div.sk-toggleable__content {max-height: 0;max-width: 0;overflow: hidden;text-align: left;background-color: #f0f8ff;}#sk-container-id-2 div.sk-toggleable__content pre {margin: 0.2em;color: black;border-radius: 0.25em;background-color: #f0f8ff;}#sk-container-id-2 input.sk-toggleable__control:checked~div.sk-toggleable__content {max-height: 200px;max-width: 100%;overflow: auto;}#sk-container-id-2 input.sk-toggleable__control:checked~label.sk-toggleable__label-arrow:before {content: \"▾\";}#sk-container-id-2 div.sk-estimator input.sk-toggleable__control:checked~label.sk-toggleable__label {background-color: #d4ebff;}#sk-container-id-2 div.sk-label input.sk-toggleable__control:checked~label.sk-toggleable__label {background-color: #d4ebff;}#sk-container-id-2 input.sk-hidden--visually {border: 0;clip: rect(1px 1px 1px 1px);clip: rect(1px, 1px, 1px, 1px);height: 1px;margin: -1px;overflow: hidden;padding: 0;position: absolute;width: 1px;}#sk-container-id-2 div.sk-estimator {font-family: monospace;background-color: #f0f8ff;border: 1px dotted black;border-radius: 0.25em;box-sizing: border-box;margin-bottom: 0.5em;}#sk-container-id-2 div.sk-estimator:hover {background-color: #d4ebff;}#sk-container-id-2 div.sk-parallel-item::after {content: \"\";width: 100%;border-bottom: 1px solid gray;flex-grow: 1;}#sk-container-id-2 div.sk-label:hover label.sk-toggleable__label {background-color: #d4ebff;}#sk-container-id-2 div.sk-serial::before {content: \"\";position: absolute;border-left: 1px solid gray;box-sizing: border-box;top: 0;bottom: 0;left: 50%;z-index: 0;}#sk-container-id-2 div.sk-serial {display: flex;flex-direction: column;align-items: center;background-color: white;padding-right: 0.2em;padding-left: 0.2em;position: relative;}#sk-container-id-2 div.sk-item {position: relative;z-index: 1;}#sk-container-id-2 div.sk-parallel {display: flex;align-items: stretch;justify-content: center;background-color: white;position: relative;}#sk-container-id-2 div.sk-item::before, #sk-container-id-2 div.sk-parallel-item::before {content: \"\";position: absolute;border-left: 1px solid gray;box-sizing: border-box;top: 0;bottom: 0;left: 50%;z-index: -1;}#sk-container-id-2 div.sk-parallel-item {display: flex;flex-direction: column;z-index: 1;position: relative;background-color: white;}#sk-container-id-2 div.sk-parallel-item:first-child::after {align-self: flex-end;width: 50%;}#sk-container-id-2 div.sk-parallel-item:last-child::after {align-self: flex-start;width: 50%;}#sk-container-id-2 div.sk-parallel-item:only-child::after {width: 0;}#sk-container-id-2 div.sk-dashed-wrapped {border: 1px dashed gray;margin: 0 0.4em 0.5em 0.4em;box-sizing: border-box;padding-bottom: 0.4em;background-color: white;}#sk-container-id-2 div.sk-label label {font-family: monospace;font-weight: bold;display: inline-block;line-height: 1.2em;}#sk-container-id-2 div.sk-label-container {text-align: center;}#sk-container-id-2 div.sk-container {/* jupyter's `normalize.less` sets `[hidden] { display: none; }` but bootstrap.min.css set `[hidden] { display: none !important; }` so we also need the `!important` here to be able to override the default hidden behavior on the sphinx rendered scikit-learn.org. See: https://github.com/scikit-learn/scikit-learn/issues/21755 */display: inline-block !important;position: relative;}#sk-container-id-2 div.sk-text-repr-fallback {display: none;}</style><div id=\"sk-container-id-2\" class=\"sk-top-container\"><div class=\"sk-text-repr-fallback\"><pre>LinearRegression()</pre><b>In a Jupyter environment, please rerun this cell to show the HTML representation or trust the notebook. <br />On GitHub, the HTML representation is unable to render, please try loading this page with nbviewer.org.</b></div><div class=\"sk-container\" hidden><div class=\"sk-item\"><div class=\"sk-estimator sk-toggleable\"><input class=\"sk-toggleable__control sk-hidden--visually\" id=\"sk-estimator-id-2\" type=\"checkbox\" checked><label for=\"sk-estimator-id-2\" class=\"sk-toggleable__label sk-toggleable__label-arrow\">LinearRegression</label><div class=\"sk-toggleable__content\"><pre>LinearRegression()</pre></div></div></div></div></div>"
      ],
      "text/plain": [
       "LinearRegression()"
      ]
     },
     "execution_count": 57,
     "metadata": {},
     "output_type": "execute_result"
    }
   ],
   "source": [
    "# regr = LinearRegression()\n",
    "# regr.fit(X, y)"
   ]
  },
  {
   "cell_type": "code",
   "execution_count": 58,
   "metadata": {},
   "outputs": [],
   "source": [
    "# ypred = regr.predict(X)"
   ]
  },
  {
   "cell_type": "code",
   "execution_count": 59,
   "metadata": {},
   "outputs": [
    {
     "data": {
      "image/png": "[encoded data removed]",
      "text/plain": [
       "<Figure size 640x480 with 1 Axes>"
      ]
     },
     "metadata": {},
     "output_type": "display_data"
    }
   ],
   "source": [
    "# plt.plot(X,y)\n",
    "# plt.plot(X,ypred)\n",
    "# plt.show()"
   ]
  },
  {
   "cell_type": "code",
   "execution_count": null,
   "metadata": {},
   "outputs": [],
   "source": [
    "# optimization\n"
   ]
  },
  {
   "cell_type": "code",
   "execution_count": null,
   "metadata": {},
   "outputs": [],
   "source": []
  },
  {
   "cell_type": "code",
   "execution_count": null,
   "metadata": {},
   "outputs": [],
   "source": []
  },
  {
   "cell_type": "code",
   "execution_count": 64,
   "metadata": {},
   "outputs": [
    {
     "name": "stderr",
     "output_type": "stream",
     "text": [
      "C:\\Users\\lyric\\AppData\\Local\\Temp\\ipykernel_21452\\175408251.py:9: DeprecationWarning: Conversion of an array with ndim > 0 to a scalar is deprecated, and will error in future. Ensure you extract a single element from your array before performing this operation. (Deprecated NumPy 1.25.)\n",
      "  energyDiff[i]=energyAvailable-energyReq\n"
     ]
    }
   ],
   "source": [
    "# # Optimization\n",
    "# m_optmization = massClass()\n",
    "# e_optimization = energyclass()\n",
    "# energyDiff = np.zeros(100)\n",
    "# for i in range (0,100):\n",
    "#     energyAvailable = sum(ypred)*(m_optmization.burnRate[0]+i)/len(ypred)\n",
    "#     mfors200_new = [m_optmization.mass(j) + 1.5 + i for j in range(5,108)]\n",
    "#     energyReq = e_optimization.dragE(allData[\"dynPinKPa\"][5:108],allData[\"disp\"][5:108])+e_optimization.interiaE(mfors200_new,allData[\"accing\"][5:108],allData[\"disp\"][5:108])\n",
    "#     energyDiff[i]=energyAvailable-energyReq"
   ]
  },
  {
   "cell_type": "code",
   "execution_count": 65,
   "metadata": {},
   "outputs": [
    {
     "data": {
      "text/plain": [
       "array([-467093.50946659, -467601.75329466, -468109.99712272,\n",
       "       -468618.24095079, -469126.48477885, -469634.72860692,\n",
       "       -470142.97243498, -470651.21626305, -471159.46009111,\n",
       "       -471667.70391917, -472175.94774724, -472684.1915753 ,\n",
       "       -473192.43540337, -473700.67923143, -474208.9230595 ,\n",
       "       -474717.16688756, -475225.41071563, -475733.65454369,\n",
       "       -476241.89837175, -476750.14219982, -477258.38602788,\n",
       "       -477766.62985595, -478274.87368401, -478783.11751208,\n",
       "       -479291.36134014, -479799.60516821, -480307.84899627,\n",
       "       -480816.09282433, -481324.3366524 , -481832.58048046,\n",
       "       -482340.82430853, -482849.06813659, -483357.31196466,\n",
       "       -483865.55579272, -484373.79962078, -484882.04344885,\n",
       "       -485390.28727691, -485898.53110498, -486406.77493304,\n",
       "       -486915.01876111, -487423.26258917, -487931.50641724,\n",
       "       -488439.7502453 , -488947.99407336, -489456.23790143,\n",
       "       -489964.48172949, -490472.72555756, -490980.96938562,\n",
       "       -491489.21321369, -491997.45704175, -492505.70086982,\n",
       "       -493013.94469788, -493522.18852594, -494030.43235401,\n",
       "       -494538.67618207, -495046.92001014, -495555.1638382 ,\n",
       "       -496063.40766627, -496571.65149433, -497079.8953224 ,\n",
       "       -497588.13915046, -498096.38297852, -498604.62680659,\n",
       "       -499112.87063465, -499621.11446272, -500129.35829078,\n",
       "       -500637.60211885, -501145.84594691, -501654.08977497,\n",
       "       -502162.33360304, -502670.5774311 , -503178.82125917,\n",
       "       -503687.06508723, -504195.3089153 , -504703.55274336,\n",
       "       -505211.79657143, -505720.04039949, -506228.28422755,\n",
       "       -506736.52805562, -507244.77188368, -507753.01571175,\n",
       "       -508261.25953981, -508769.50336788, -509277.74719594,\n",
       "       -509785.99102401, -510294.23485207, -510802.47868013,\n",
       "       -511310.7225082 , -511818.96633626, -512327.21016433,\n",
       "       -512835.45399239, -513343.69782046, -513851.94164852,\n",
       "       -514360.18547659, -514868.42930465, -515376.67313271,\n",
       "       -515884.91696078, -516393.16078884, -516901.40461691,\n",
       "       -517409.64844497])"
      ]
     },
     "execution_count": 65,
     "metadata": {},
     "output_type": "execute_result"
    }
   ],
   "source": [
    "# energyDiff"
   ]
  },
  {
   "cell_type": "code",
   "execution_count": null,
   "metadata": {},
   "outputs": [],
   "source": []
  }
 ],
 "metadata": {
  "kernelspec": {
   "display_name": "Python 3",
   "language": "python",
   "name": "python3"
  },
  "language_info": {
   "codemirror_mode": {
    "name": "ipython",
    "version": 3
   },
   "file_extension": ".py",
   "mimetype": "text/x-python",
   "name": "python",
   "nbconvert_exporter": "python",
   "pygments_lexer": "ipython3",
   "version": "3.11.5"
  },
  "orig_nbformat": 4
 },
 "nbformat": 4,
 "nbformat_minor": 2
}
