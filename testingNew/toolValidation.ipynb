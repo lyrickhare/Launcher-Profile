{
 "cells": [
  {
   "cell_type": "code",
   "execution_count": 1,
   "metadata": {},
   "outputs": [],
   "source": [
    "import numpy as np\n",
    "import pandas as pd\n",
    "import matplotlib.pyplot as plt\n",
    "THETA = 3 # in degrees\n",
    "MASS = 6e3 # in kg\n",
    "DT = 0.001 # in seconds\n",
    "\n",
    "def thrust(alpha,theta=np.deg2rad(THETA),T=(1e6 + MASS*1*9.8)/np.cos(np.deg2rad(THETA))):\n",
    "    \"\"\" \n",
    "    calculates thrust in inertial (parent) direction\n",
    "    inputs:\n",
    "    - alpha in rad\n",
    "    - theta in rad\n",
    "    - T in N (absolute value of net thrust)\n",
    "\n",
    "    output:\n",
    "    - 2D vector\n",
    "\n",
    "    Notes: value of T*cos(theta) = Drag + ma\n",
    "    \"\"\"\n",
    "    return np.array([T*np.cos(-alpha+theta),-T*np.sin(-alpha+theta)-9.8*6e3])\n",
    "\n",
    "def drag(alpha,beta,D = 1e6):\n",
    "    \"\"\"\n",
    "    calculates drag in inertial (parent) direction\n",
    "    inputs:\n",
    "    - alpha in rad\n",
    "    - beta in rad\n",
    "    - D in N (absolute value of net thrust)\n",
    "\n",
    "    output: \n",
    "    - 2D vector\n",
    "    \"\"\"\n",
    "    return np.array([-D*np.cos(beta-alpha),D*np.sin(beta-alpha)])\n",
    "\n",
    "def R_i2b(alpha,vec):\n",
    "    \"\"\" \n",
    "    returns rotated vector in the body frame (x,y) from the interial {parent (X,Y)}\n",
    "    alpha in rad\n",
    "    \"\"\"\n",
    "    rotMat = np.array( [ [ np.cos(alpha), np.sin(alpha) ], [ -np.sin(alpha), np.cos(alpha)] ] )   \n",
    "    return np.matmul(rotMat,vec)\n",
    "\n",
    "def moment(alpha, drag, l = 0.1):\n",
    "    \"\"\" \n",
    "    calculates positive value standard right hand rule i.e. outside plane moment is positive\n",
    "    l is distance between cg and cp\n",
    "    distance between cg and ct is assumed 0 {ct is the point at which thrust acts}\n",
    "    \"\"\"\n",
    "    dragRot = -R_i2b(alpha,drag)\n",
    "    return dragRot[1]*l\n",
    "\n",
    "def moi(m=6000,r=2.5,l=5):\n",
    "    \"\"\"\n",
    "    moment of intertia, will be used in future for variable mass and exact CG location\n",
    "    \"\"\"\n",
    "    return m*(0.25*r**2 + (1/12)*l**2)\n",
    "\n",
    "\n",
    "def betaFromV(alpha, v):\n",
    "    \"\"\"\n",
    "    input:\n",
    "    - alpha in radians\n",
    "    - velocity vector in inertial frame\n",
    "    output:\n",
    "    - in radians\n",
    "    \"\"\"\n",
    "    vRot = R_i2b(alpha,v) # transform velcity vector from parent to pod frame\n",
    "    return np.arctan(-vRot[1]/vRot[0])\n",
    "\n",
    "def updateV(vo, T, D, dt = DT, m = MASS):\n",
    "    \"\"\"\n",
    "    newton's law\n",
    "    \"\"\"\n",
    "    # return vo + ((T+D)/m+np.array([0,-9.8]))*dt # for absolute displacement in Y (but first have to rotate everything in real inertial frame)\n",
    "    return vo + ((T+D)/m)*dt\n",
    "\n",
    "def updateAlphadot(alphaDot, moment, moi, dt = DT):\n",
    "    \"\"\"\n",
    "    we know that doube derivative of alpha wrt time is net_Torque/Moment of inertia\n",
    "    input:\n",
    "    - rad/sec\n",
    "    - N-m\n",
    "    - kg-m^2\n",
    "    \"\"\"\n",
    "    return alphaDot + (moment/moi)*dt\n",
    "\n",
    "def updateAlpha(alphao, alphaDot, dt = DT):\n",
    "    \"\"\" \n",
    "    took modulus for plots\n",
    "    \"\"\"\n",
    "    # return (alphao + alphaDot*dt)%(2*np.pi)\n",
    "    return (alphao + alphaDot*dt)\n",
    "\n",
    "def getAngle(vec):\n",
    "    return np.arctan(vec[1]/vec[0])\n"
   ]
  },
  {
   "cell_type": "code",
   "execution_count": 2,
   "metadata": {},
   "outputs": [],
   "source": [
    "def loopAll(cg_cp = 0.1, theta = 0,loopTime = 5):\n",
    "    MASS = 6e3\n",
    "    #declaring empty arrays\n",
    "    t = np.arange(0,loopTime+DT,DT) \n",
    "    alph = np.zeros(len(t))\n",
    "    bet = np.zeros(len(t))\n",
    "    T = np.zeros((len(t),2))\n",
    "    D = np.zeros((len(t),2))\n",
    "    V = np.zeros((len(t),2))\n",
    "    alphDot = np.zeros(len(t))\n",
    "    tau = np.zeros(len(t)) \n",
    "\n",
    "    # initializing t = 0 values\n",
    "    T[0] = thrust(alph[0],np.deg2rad(theta),0)\n",
    "    D[0] = drag(alph[0],bet[0],0)\n",
    "    V[0] = np.array([10,0])\n",
    "    I = moi()\n",
    "    for i in range(1,len(t)):\n",
    "        V[i] = updateV(V[i-1],T[i-1],D[i-1])\n",
    "        bet[i] = betaFromV(alph[i-1],V[i])\n",
    "        tau[i] = moment(alph[i-1],D[i-1],cg_cp)\n",
    "        alphDot[i] = updateAlphadot(alphDot[i-1],tau[i],I)\n",
    "        alph[i] = updateAlpha(alph[i-1],alphDot[i-1])\n",
    "        T[i] = thrust(alph[i],np.deg2rad(theta),0)\n",
    "        D[i] = drag(alph[i],bet[i],0)\n",
    "    return alph,bet,V"
   ]
  },
  {
   "cell_type": "code",
   "execution_count": 3,
   "metadata": {},
   "outputs": [],
   "source": [
    "alph,bet,v=loopAll()"
   ]
  },
  {
   "cell_type": "code",
   "execution_count": 4,
   "metadata": {},
   "outputs": [],
   "source": [
    "def s(V):\n",
    "    s_x = V[:,0]*DT\n",
    "    s_y = V[:,1]*DT\n",
    "    s_x = s_x.cumsum()\n",
    "    s_y = s_y.cumsum()\n",
    "    return s_x,s_y"
   ]
  },
  {
   "cell_type": "code",
   "execution_count": 5,
   "metadata": {},
   "outputs": [],
   "source": [
    "disp = s(v)"
   ]
  },
  {
   "cell_type": "code",
   "execution_count": null,
   "metadata": {},
   "outputs": [],
   "source": []
  },
  {
   "cell_type": "code",
   "execution_count": 6,
   "metadata": {},
   "outputs": [],
   "source": [
    "t = np.arange(0,5+DT,DT)\n",
    "sx = 10*t\n",
    "sy = -0.5*9.8*t**2"
   ]
  },
  {
   "cell_type": "code",
   "execution_count": 7,
   "metadata": {},
   "outputs": [
    {
     "data": {
      "text/plain": [
       "Text(0, 0.5, 'y displacement in meters')"
      ]
     },
     "execution_count": 7,
     "metadata": {},
     "output_type": "execute_result"
    },
    {
     "data": {
      "image/png": "[encoded data removed]",
      "text/plain": [
       "<Figure size 640x480 with 1 Axes>"
      ]
     },
     "metadata": {},
     "output_type": "display_data"
    }
   ],
   "source": [
    "plt.plot(disp[0],disp[1],color = 'black')\n",
    "plt.plot(sx,sy,linestyle = 'dotted',color = 'yellow')\n",
    "plt.legend(['result from framework','standard parabolic trajectory'])\n",
    "plt.xlabel('x displacement in meters')\n",
    "plt.ylabel('y displacement in meters')"
   ]
  },
  {
   "cell_type": "code",
   "execution_count": null,
   "metadata": {},
   "outputs": [],
   "source": []
  }
 ],
 "metadata": {
  "kernelspec": {
   "display_name": "Python 3",
   "language": "python",
   "name": "python3"
  },
  "language_info": {
   "codemirror_mode": {
    "name": "ipython",
    "version": 3
   },
   "file_extension": ".py",
   "mimetype": "text/x-python",
   "name": "python",
   "nbconvert_exporter": "python",
   "pygments_lexer": "ipython3",
   "version": "3.11.5"
  }
 },
 "nbformat": 4,
 "nbformat_minor": 2
}
